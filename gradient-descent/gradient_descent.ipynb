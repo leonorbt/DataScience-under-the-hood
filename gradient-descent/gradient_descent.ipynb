{
 "cells": [
  {
   "cell_type": "markdown",
   "metadata": {},
   "source": [
    "# Goal\n",
    "Apply gradient descent to minimize the error of a liner regression"
   ]
  },
  {
   "cell_type": "code",
   "execution_count": 70,
   "metadata": {},
   "outputs": [],
   "source": [
    "import numpy as np\n",
    "import matplotlib.pyplot as plt"
   ]
  },
  {
   "cell_type": "markdown",
   "metadata": {},
   "source": [
    "### Functions"
   ]
  },
  {
   "cell_type": "code",
   "execution_count": 65,
   "metadata": {},
   "outputs": [],
   "source": [
    "# this function iterates over the elements and returns\n",
    "# true if all of them are below the tolerance threshold\n",
    "def below_tolerance(movement, tolerance):\n",
    "\tfor i in movement:\n",
    "\t\tif i < 0:\n",
    "\t\t\ti = -i\n",
    "\t\tif i > tolerance:\n",
    "\t\t\treturn False\n",
    "\treturn True"
   ]
  },
  {
   "cell_type": "code",
   "execution_count": 66,
   "metadata": {},
   "outputs": [],
   "source": [
    "# SSR\n",
    "#this is the derivative of the cost function, returns the gradient vector\n",
    "# b0 = derivative in order to the intercept\n",
    "# b1 = derivative in order to the first parameter\n",
    "def\tgradient_vector(x, y, start):\n",
    "\tderiv = start[0] + start[1] * x - y\n",
    "\tb0 = 2 * deriv.sum()\n",
    "\tb1 = 2 * (deriv * x).sum()\n",
    "\treturn b0, b1"
   ]
  },
  {
   "cell_type": "markdown",
   "metadata": {},
   "source": [
    "At first I used the SSR, but it resulted in a too big step so I changed to the MSE and it seems to be working now"
   ]
  },
  {
   "cell_type": "code",
   "execution_count": 67,
   "metadata": {},
   "outputs": [],
   "source": [
    "# MSE\n",
    "#this is the derivative of the cost function, returns the gradient vector\n",
    "# b0 = derivative in order to the intercept\n",
    "# b1 = derivative in order to the first parameter\n",
    "def\tgradient_vector(x, y, start):\n",
    "\tderiv = start[0] + start[1] * x - y\n",
    "\tb0 = 2 * deriv.mean()\n",
    "\tb1 = 2 * (deriv * x).mean()\n",
    "\treturn b0, b1"
   ]
  },
  {
   "cell_type": "markdown",
   "metadata": {},
   "source": [
    "Source for gifs: https://www.geeksforgeeks.org/create-an-animated-gif-using-python-matplotlib/"
   ]
  },
  {
   "cell_type": "code",
   "execution_count": 78,
   "metadata": {},
   "outputs": [],
   "source": [
    "def scatter_plot(x, y):\n",
    "\tfig = plt.figure()\n",
    "\tfig.patch.set_facecolor('white')\n",
    "\tplt.scatter(x, y, c =\"blue\")\n",
    "\tplt.xlabel(\"X-axis\")\n",
    "\tplt.ylabel(\"Y-axis\")\n",
    "\tplt.show()"
   ]
  },
  {
   "cell_type": "code",
   "execution_count": 82,
   "metadata": {},
   "outputs": [],
   "source": [
    "def regression(x, y, b0, b1):\n",
    "\tfig = plt.figure()\n",
    "\tfig.patch.set_facecolor('white')\n",
    "\tplt.scatter(x, y, c =\"blue\")\n",
    "\tplt.plot(x, b0 + b1*x, '--k')\n",
    "\tplt.xlabel(\"X-axis\")\n",
    "\tplt.ylabel(\"Y-axis\")\n",
    "\tplt.show()"
   ]
  },
  {
   "cell_type": "code",
   "execution_count": 119,
   "metadata": {},
   "outputs": [],
   "source": [
    "import matplotlib.animation as animation\n",
    "\n",
    "#function to pass in the animation\n",
    "def AnimationFunction(b0, b1, obs_x):\n",
    "   print(\"B0\", b0)\n",
    "   print(\"B1\", b1)\n",
    "   ax1.plot(obs_x, b0 + b1*obs_x, '--k')\n",
    "\t\n"
   ]
  },
  {
   "cell_type": "code",
   "execution_count": 120,
   "metadata": {},
   "outputs": [],
   "source": [
    "import matplotlib.animation as animation\n",
    "\n",
    "# this function returns the parameters b0 and b1 that create the linear regression\n",
    "# closer to obs_x and obs_y\n",
    "# the starting point is an initial selection for the parameters that is updated\n",
    "# until the improvement is marginal (below tolerance) or the model has been run \n",
    "# enough times\n",
    "def gradient_descent(gradient_vector, obs_x, obs_y, starting_point,\n",
    "\t\tlearning_rate=0.0005, max_iter=100, tolerance=0.001):\n",
    "\tposition = starting_point\n",
    "\tscatter_plot(obs_x, obs_y)\n",
    "\tb0 = []\n",
    "\tb1 = []\n",
    "\tif max_iter < 1:\n",
    "\t\traise ValueError(\"The number of iterations should be greater than 0\")\n",
    "\tif tolerance < 0:\n",
    "\t\traise ValueError(\"The tolerance can't be negative\")\n",
    "\tif learning_rate <= 0:\n",
    "\t\traise ValueError(\"The learning rate has to be greater than 0, otherwise you ain't learning\")\n",
    "\ti = 0\n",
    "\tb0.append(position[0])\n",
    "\tb1.append(position[1])\n",
    "\tfig, ax1 = plt.subplots(1,1)\n",
    "\t#regression(obs_x, obs_y, position[0], position[1])\n",
    "\twhile i < max_iter:\n",
    "\t\tmovement = learning_rate * np.array(gradient_vector(obs_x, obs_y, position))\n",
    "\t\tif below_tolerance(movement, tolerance):\n",
    "\t\t\tbreak\n",
    "\t\tposition -= movement\n",
    "\t\tb0.append(position[0])\n",
    "\t\tb1.append(position[1])\n",
    "\t\t#regression(obs_x, obs_y, position[0], position[1])\n",
    "\tanimation.FuncAnimation(fig, AnimationFunction, fargs=(b0,b1, obs_x), interval=25)\n",
    "\t#print(\"b0\", b0)\n",
    "\t#print(\"b1\", b1)\n",
    "\treturn position"
   ]
  },
  {
   "cell_type": "markdown",
   "metadata": {},
   "source": [
    "The elements must be an np.array because listA + listB will concatenate, while arrayA+arrayB will return an array of the sum of each element (must be the same size)"
   ]
  },
  {
   "cell_type": "code",
   "execution_count": 121,
   "metadata": {},
   "outputs": [
    {
     "data": {
      "image/png": "[encoded data removed]",
      "text/plain": [
       "<Figure size 432x288 with 1 Axes>"
      ]
     },
     "metadata": {},
     "output_type": "display_data"
    },
    {
     "data": {
      "image/png": "[encoded data removed]",
      "text/plain": [
       "<Figure size 432x288 with 1 Axes>"
      ]
     },
     "metadata": {
      "needs_background": "light"
     },
     "output_type": "display_data"
    }
   ],
   "source": [
    "x = np.array([5, 15, 25, 35, 45, 55])\n",
    "y = np.array([5, 20, 14, 32, 22, 38])\n",
    "\n",
    "b0, b1 = gradient_descent(gradient_vector = gradient_vector, obs_x = x, obs_y = y,\n",
    "\tstarting_point=[2,1])\n",
    "\n",
    "\n",
    "\n"
   ]
  },
  {
   "cell_type": "code",
   "execution_count": null,
   "metadata": {},
   "outputs": [],
   "source": []
  }
 ],
 "metadata": {
  "kernelspec": {
   "display_name": "Python 3.7.3 ('base')",
   "language": "python",
   "name": "python3"
  },
  "language_info": {
   "codemirror_mode": {
    "name": "ipython",
    "version": 3
   },
   "file_extension": ".py",
   "mimetype": "text/x-python",
   "name": "python",
   "nbconvert_exporter": "python",
   "pygments_lexer": "ipython3",
   "version": "3.7.3"
  },
  "orig_nbformat": 4,
  "vscode": {
   "interpreter": {
    "hash": "cd78fef2128015050713e82ca51c6520b11aee7c9ee8df750520bbbc7384cbaa"
   }
  }
 },
 "nbformat": 4,
 "nbformat_minor": 2
}
