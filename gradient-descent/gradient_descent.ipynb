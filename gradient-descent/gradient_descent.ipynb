{
 "cells": [
  {
   "cell_type": "markdown",
   "metadata": {},
   "source": [
    "# Goal\n",
    "Apply gradient descent to minimize the error of a liner regression"
   ]
  },
  {
   "cell_type": "code",
   "execution_count": 2,
   "metadata": {},
   "outputs": [],
   "source": [
    "%matplotlib ipympl\n",
    "\n",
    "import numpy as np\n",
    "import matplotlib.pyplot as plt\n",
    "import matplotlib.animation as animation\n",
    "from IPython.display import display, clear_output\n"
   ]
  },
  {
   "cell_type": "markdown",
   "metadata": {},
   "source": [
    "### Functions"
   ]
  },
  {
   "cell_type": "code",
   "execution_count": 3,
   "metadata": {},
   "outputs": [],
   "source": [
    "# this function iterates over the elements and returns\n",
    "# true if all of them are below the tolerance threshold\n",
    "def below_tolerance(movement, tolerance):\n",
    "\tfor i in movement:\n",
    "\t\tif i < 0:\n",
    "\t\t\ti = -i\n",
    "\t\tif i > tolerance:\n",
    "\t\t\treturn False\n",
    "\treturn True"
   ]
  },
  {
   "cell_type": "code",
   "execution_count": 4,
   "metadata": {},
   "outputs": [],
   "source": [
    "# SSR\n",
    "#this is the derivative of the cost function, returns the gradient vector\n",
    "# b0 = derivative in order to the intercept\n",
    "# b1 = derivative in order to the first parameter\n",
    "def\tgradient_vector(x, y, start):\n",
    "\tderiv = start[0] + start[1] * x - y\n",
    "\tb0 = 2 * deriv.sum()\n",
    "\tb1 = 2 * (deriv * x).sum()\n",
    "\treturn b0, b1"
   ]
  },
  {
   "cell_type": "markdown",
   "metadata": {},
   "source": [
    "At first I used the SSR, but it resulted in a too big step so I changed to the MSE and it seems to be working now"
   ]
  },
  {
   "cell_type": "code",
   "execution_count": 5,
   "metadata": {},
   "outputs": [],
   "source": [
    "# MSE\n",
    "#this is the derivative of the cost function, returns the gradient vector\n",
    "# b0 = derivative in order to the intercept\n",
    "# b1 = derivative in order to the first parameter\n",
    "def\tgradient_vector(x, y, start):\n",
    "\tderiv = start[0] + start[1] * x - y\n",
    "\tb0 = 2 * deriv.mean()\n",
    "\tb1 = 2 * (deriv * x).mean()\n",
    "\treturn b0, b1"
   ]
  },
  {
   "cell_type": "markdown",
   "metadata": {},
   "source": [
    "Source for gifs: https://www.geeksforgeeks.org/create-an-animated-gif-using-python-matplotlib/"
   ]
  },
  {
   "cell_type": "code",
   "execution_count": 6,
   "metadata": {},
   "outputs": [],
   "source": [
    "def scatter_plot(x, y):\n",
    "\tfig = plt.figure()\n",
    "\tfig.patch.set_facecolor('white')\n",
    "\tplt.scatter(x, y, c =\"blue\")\n",
    "\tplt.xlabel(\"X-axis\")\n",
    "\tplt.ylabel(\"Y-axis\")\n",
    "\tplt.show()"
   ]
  },
  {
   "cell_type": "code",
   "execution_count": 7,
   "metadata": {},
   "outputs": [],
   "source": [
    "def regression(x, y, b0, b1):\n",
    "\tfig = plt.figure()\n",
    "\tfig.patch.set_facecolor('white')\n",
    "\tplt.scatter(x, y, c =\"blue\")\n",
    "\tplt.plot(x, b0 + b1*x, '--k')\n",
    "\tplt.xlabel(\"X-axis\")\n",
    "\tplt.ylabel(\"Y-axis\")\n",
    "\tplt.show()"
   ]
  },
  {
   "cell_type": "code",
   "execution_count": 8,
   "metadata": {},
   "outputs": [],
   "source": [
    "# this function returns the parameters b0 and b1 that create the linear regression\n",
    "# closer to obs_x and obs_y\n",
    "# the starting point is an initial selection for the parameters that is updated\n",
    "# until the improvement is marginal (below tolerance) or the model has been run \n",
    "# enough times\n",
    "def gradient_descent(gradient_vector, obs_x, obs_y, starting_point,\n",
    "\t\tlearning_rate=0.0005, max_iter=100, tolerance=0.001):\n",
    "\tposition = starting_point\n",
    "\t#scatter_plot(obs_x, obs_y)\n",
    "\tb0 = []\n",
    "\tb1 = []\n",
    "\tif max_iter < 1:\n",
    "\t\traise ValueError(\"The number of iterations should be greater than 0\")\n",
    "\tif tolerance < 0:\n",
    "\t\traise ValueError(\"The tolerance can't be negative\")\n",
    "\tif learning_rate <= 0:\n",
    "\t\traise ValueError(\"The learning rate has to be greater than 0, otherwise you ain't learning\")\n",
    "\ti = 0\n",
    "\tb0.append(position[0])\n",
    "\tb1.append(position[1])\n",
    "\twhile i < max_iter:\n",
    "\t\tmovement = learning_rate * np.array(gradient_vector(obs_x, obs_y, position))\n",
    "\t\tif below_tolerance(movement, tolerance):\n",
    "\t\t\tbreak\n",
    "\t\tposition -= movement\n",
    "\t\tb0.append(position[0])\n",
    "\t\tb1.append(position[1])\n",
    "\treturn position, b0, b1"
   ]
  },
  {
   "cell_type": "markdown",
   "metadata": {},
   "source": [
    "The elements must be an np.array because listA + listB will concatenate, while arrayA+arrayB will return an array of the sum of each element (must be the same size)"
   ]
  },
  {
   "cell_type": "code",
   "execution_count": 9,
   "metadata": {},
   "outputs": [],
   "source": [
    "def animation_func(i):\n",
    "  ax1.clear()\n",
    "  ax1.scatter(x, y, c =\"blue\")\n",
    "  ax1.plot(x, b0[i] + b1[i]*x, '--k')\n"
   ]
  },
  {
   "cell_type": "code",
   "execution_count": 10,
   "metadata": {},
   "outputs": [
    {
     "name": "stdout",
     "output_type": "stream",
     "text": [
      "The result is 1.9943020672073888 and  0.6321359939724382\n"
     ]
    },
    {
     "data": {
      "application/vnd.jupyter.widget-view+json": {
       "model_id": "0bfb35c935e14bb094f5b50380666441",
       "version_major": 2,
       "version_minor": 0
      },
      "image/png": "[encoded data removed]",
      "text/html": [
       "\n",
       "            <div style=\"display: inline-block;\">\n",
       "                <div class=\"jupyter-widgets widget-label\" style=\"text-align: center;\">\n",
       "                    Figure\n",
       "                </div>\n",
       "                <img src='data:image/png;base64,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' width=640.0/>\n",
       "            </div>\n",
       "        "
      ],
      "text/plain": [
       "Canvas(toolbar=Toolbar(toolitems=[('Home', 'Reset original view', 'home', 'home'), ('Back', 'Back to previous …"
      ]
     },
     "metadata": {},
     "output_type": "display_data"
    }
   ],
   "source": [
    "x = np.array([5, 15, 25, 35, 45, 55])\n",
    "y = np.array([5, 20, 14, 32, 22, 38])\n",
    "\n",
    "result, b0, b1 = gradient_descent(gradient_vector = gradient_vector, obs_x = x, obs_y = y,\n",
    "\tstarting_point=[2,1])\n",
    "print(\"The result is\", result[0], \"and \", result[1])\n",
    "  \n",
    "# Initialize the figure\n",
    "fig = plt.figure()\n",
    "ax1 = fig.add_subplot(1,1,1)\n",
    "fig.patch.set_facecolor('white')\n",
    "ax1.set_xlim([0, max(x)])\n",
    "ax1.set_ylim([0, max(y)])\n",
    "\n",
    "\n",
    "ani = animation.FuncAnimation(fig, animation_func,frames = 5, interval = 200)\n",
    "\n",
    "plt.show()"
   ]
  },
  {
   "cell_type": "code",
   "execution_count": 11,
   "metadata": {},
   "outputs": [
    {
     "data": {
      "text/plain": [
       "38"
      ]
     },
     "execution_count": 11,
     "metadata": {},
     "output_type": "execute_result"
    }
   ],
   "source": [
    "max(y)"
   ]
  },
  {
   "cell_type": "code",
   "execution_count": null,
   "metadata": {},
   "outputs": [],
   "source": []
  }
 ],
 "metadata": {
  "kernelspec": {
   "display_name": "Python 3",
   "language": "python",
   "name": "python3"
  },
  "language_info": {
   "codemirror_mode": {
    "name": "ipython",
    "version": 3
   },
   "file_extension": ".py",
   "mimetype": "text/x-python",
   "name": "python",
   "nbconvert_exporter": "python",
   "pygments_lexer": "ipython3",
   "version": "3.7.3"
  },
  "vscode": {
   "interpreter": {
    "hash": "cd78fef2128015050713e82ca51c6520b11aee7c9ee8df750520bbbc7384cbaa"
   }
  }
 },
 "nbformat": 4,
 "nbformat_minor": 2
}
