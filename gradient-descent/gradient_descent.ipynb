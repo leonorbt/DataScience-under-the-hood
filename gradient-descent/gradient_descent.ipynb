{
 "cells": [
  {
   "cell_type": "markdown",
   "metadata": {},
   "source": [
    "# Goal\n",
    "Apply gradient descent to minimize the error of a liner regression"
   ]
  },
  {
   "cell_type": "code",
   "execution_count": 9,
   "metadata": {},
   "outputs": [
    {
     "ename": "ImportError",
     "evalue": "cannot import name '_colormaps' from 'matplotlib.cm' (/Applications/anaconda3/lib/python3.7/site-packages/matplotlib/cm.py)",
     "output_type": "error",
     "traceback": [
      "\u001b[0;31m---------------------------------------------------------------------------\u001b[0m",
      "\u001b[0;31mImportError\u001b[0m                               Traceback (most recent call last)",
      "\u001b[0;32m<ipython-input-9-3cdc482a4eaf>\u001b[0m in \u001b[0;36m<module>\u001b[0;34m\u001b[0m\n\u001b[1;32m      1\u001b[0m \u001b[0;32mimport\u001b[0m \u001b[0mnumpy\u001b[0m \u001b[0;32mas\u001b[0m \u001b[0mnp\u001b[0m\u001b[0;34m\u001b[0m\u001b[0;34m\u001b[0m\u001b[0m\n\u001b[0;32m----> 2\u001b[0;31m \u001b[0;32mimport\u001b[0m \u001b[0mmatplotlib\u001b[0m\u001b[0;34m.\u001b[0m\u001b[0mpyplot\u001b[0m \u001b[0;32mas\u001b[0m \u001b[0mplt\u001b[0m\u001b[0;34m\u001b[0m\u001b[0;34m\u001b[0m\u001b[0m\n\u001b[0m\u001b[1;32m      3\u001b[0m \u001b[0;32mimport\u001b[0m \u001b[0mmatplotlib\u001b[0m\u001b[0;34m.\u001b[0m\u001b[0manimation\u001b[0m \u001b[0;32mas\u001b[0m \u001b[0manimation\u001b[0m\u001b[0;34m\u001b[0m\u001b[0;34m\u001b[0m\u001b[0m\n\u001b[1;32m      4\u001b[0m \u001b[0;32mfrom\u001b[0m \u001b[0mIPython\u001b[0m\u001b[0;34m.\u001b[0m\u001b[0mdisplay\u001b[0m \u001b[0;32mimport\u001b[0m \u001b[0mdisplay\u001b[0m\u001b[0;34m,\u001b[0m \u001b[0mclear_output\u001b[0m\u001b[0;34m\u001b[0m\u001b[0;34m\u001b[0m\u001b[0m\n",
      "\u001b[0;32m/Applications/anaconda3/lib/python3.7/site-packages/matplotlib/pyplot.py\u001b[0m in \u001b[0;36m<module>\u001b[0;34m\u001b[0m\n\u001b[1;32m     66\u001b[0m \u001b[0;34m\u001b[0m\u001b[0m\n\u001b[1;32m     67\u001b[0m \u001b[0;32mfrom\u001b[0m \u001b[0mmatplotlib\u001b[0m \u001b[0;32mimport\u001b[0m \u001b[0mcm\u001b[0m\u001b[0;34m\u001b[0m\u001b[0;34m\u001b[0m\u001b[0m\n\u001b[0;32m---> 68\u001b[0;31m \u001b[0;32mfrom\u001b[0m \u001b[0mmatplotlib\u001b[0m\u001b[0;34m.\u001b[0m\u001b[0mcm\u001b[0m \u001b[0;32mimport\u001b[0m \u001b[0m_colormaps\u001b[0m \u001b[0;32mas\u001b[0m \u001b[0mcolormaps\u001b[0m\u001b[0;34m,\u001b[0m \u001b[0mget_cmap\u001b[0m\u001b[0;34m,\u001b[0m \u001b[0mregister_cmap\u001b[0m\u001b[0;34m\u001b[0m\u001b[0;34m\u001b[0m\u001b[0m\n\u001b[0m\u001b[1;32m     69\u001b[0m \u001b[0;34m\u001b[0m\u001b[0m\n\u001b[1;32m     70\u001b[0m \u001b[0;32mimport\u001b[0m \u001b[0mnumpy\u001b[0m \u001b[0;32mas\u001b[0m \u001b[0mnp\u001b[0m\u001b[0;34m\u001b[0m\u001b[0;34m\u001b[0m\u001b[0m\n",
      "\u001b[0;31mImportError\u001b[0m: cannot import name '_colormaps' from 'matplotlib.cm' (/Applications/anaconda3/lib/python3.7/site-packages/matplotlib/cm.py)"
     ]
    }
   ],
   "source": [
    "import numpy as np\n",
    "import matplotlib.pyplot as plt\n",
    "import matplotlib.animation as animation\n",
    "from IPython.display import display, clear_output\n"
   ]
  },
  {
   "cell_type": "markdown",
   "metadata": {},
   "source": [
    "### Functions"
   ]
  },
  {
   "cell_type": "code",
   "execution_count": null,
   "metadata": {},
   "outputs": [],
   "source": [
    "# this function iterates over the elements and returns\n",
    "# true if all of them are below the tolerance threshold\n",
    "def below_tolerance(movement, tolerance):\n",
    "\tfor i in movement:\n",
    "\t\tif i < 0:\n",
    "\t\t\ti = -i\n",
    "\t\tif i > tolerance:\n",
    "\t\t\treturn False\n",
    "\treturn True"
   ]
  },
  {
   "cell_type": "code",
   "execution_count": null,
   "metadata": {},
   "outputs": [],
   "source": [
    "# SSR\n",
    "#this is the derivative of the cost function, returns the gradient vector\n",
    "# b0 = derivative in order to the intercept\n",
    "# b1 = derivative in order to the first parameter\n",
    "def\tgradient_vector(x, y, start):\n",
    "\tderiv = start[0] + start[1] * x - y\n",
    "\tb0 = 2 * deriv.sum()\n",
    "\tb1 = 2 * (deriv * x).sum()\n",
    "\treturn b0, b1"
   ]
  },
  {
   "cell_type": "markdown",
   "metadata": {},
   "source": [
    "At first I used the SSR, but it resulted in a too big step so I changed to the MSE and it seems to be working now"
   ]
  },
  {
   "cell_type": "code",
   "execution_count": null,
   "metadata": {},
   "outputs": [],
   "source": [
    "# MSE\n",
    "#this is the derivative of the cost function, returns the gradient vector\n",
    "# b0 = derivative in order to the intercept\n",
    "# b1 = derivative in order to the first parameter\n",
    "def\tgradient_vector(x, y, start):\n",
    "\tderiv = start[0] + start[1] * x - y\n",
    "\tb0 = 2 * deriv.mean()\n",
    "\tb1 = 2 * (deriv * x).mean()\n",
    "\treturn b0, b1"
   ]
  },
  {
   "cell_type": "markdown",
   "metadata": {},
   "source": [
    "Source for gifs: https://www.geeksforgeeks.org/create-an-animated-gif-using-python-matplotlib/"
   ]
  },
  {
   "cell_type": "code",
   "execution_count": null,
   "metadata": {},
   "outputs": [],
   "source": [
    "def scatter_plot(x, y):\n",
    "\tfig = plt.figure()\n",
    "\tfig.patch.set_facecolor('white')\n",
    "\tplt.scatter(x, y, c =\"blue\")\n",
    "\tplt.xlabel(\"X-axis\")\n",
    "\tplt.ylabel(\"Y-axis\")\n",
    "\tplt.show()"
   ]
  },
  {
   "cell_type": "code",
   "execution_count": null,
   "metadata": {},
   "outputs": [],
   "source": [
    "def regression(x, y, b0, b1):\n",
    "\tfig = plt.figure()\n",
    "\tfig.patch.set_facecolor('white')\n",
    "\tplt.scatter(x, y, c =\"blue\")\n",
    "\tplt.plot(x, b0 + b1*x, '--k')\n",
    "\tplt.xlabel(\"X-axis\")\n",
    "\tplt.ylabel(\"Y-axis\")\n",
    "\tplt.show()"
   ]
  },
  {
   "cell_type": "code",
   "execution_count": null,
   "metadata": {},
   "outputs": [],
   "source": [
    "\n",
    "#function to pass in the animation\n",
    "def AnimationFunction(b0,b1, ax1):\n",
    "   x = np.array([5, 15, 25, 35, 45, 55])\n",
    "   print(\"B0\", b0)\n",
    "   print(\"B1\", b1)\n",
    "   ax1.plot(x, b0 + b1*x, '--k')\n",
    "\t\n"
   ]
  },
  {
   "cell_type": "code",
   "execution_count": null,
   "metadata": {},
   "outputs": [],
   "source": [
    "# this function returns the parameters b0 and b1 that create the linear regression\n",
    "# closer to obs_x and obs_y\n",
    "# the starting point is an initial selection for the parameters that is updated\n",
    "# until the improvement is marginal (below tolerance) or the model has been run \n",
    "# enough times\n",
    "def gradient_descent(gradient_vector, obs_x, obs_y, starting_point,\n",
    "\t\tlearning_rate=0.0005, max_iter=100, tolerance=0.001):\n",
    "\tposition = starting_point\n",
    "\tscatter_plot(obs_x, obs_y)\n",
    "\tb0 = []\n",
    "\tb1 = []\n",
    "\tif max_iter < 1:\n",
    "\t\traise ValueError(\"The number of iterations should be greater than 0\")\n",
    "\tif tolerance < 0:\n",
    "\t\traise ValueError(\"The tolerance can't be negative\")\n",
    "\tif learning_rate <= 0:\n",
    "\t\traise ValueError(\"The learning rate has to be greater than 0, otherwise you ain't learning\")\n",
    "\ti = 0\n",
    "\tb0.append(position[0])\n",
    "\tb1.append(position[1])\n",
    "\twhile i < max_iter:\n",
    "\t\tmovement = learning_rate * np.array(gradient_vector(obs_x, obs_y, position))\n",
    "\t\tif below_tolerance(movement, tolerance):\n",
    "\t\t\tbreak\n",
    "\t\tposition -= movement\n",
    "\t\tb0.append(position[0])\n",
    "\t\tb1.append(position[1])\n",
    "\treturn position, b0, b1"
   ]
  },
  {
   "cell_type": "markdown",
   "metadata": {},
   "source": [
    "The elements must be an np.array because listA + listB will concatenate, while arrayA+arrayB will return an array of the sum of each element (must be the same size)"
   ]
  },
  {
   "cell_type": "code",
   "execution_count": null,
   "metadata": {},
   "outputs": [],
   "source": [
    "x = np.array([5, 15, 25, 35, 45, 55])\n",
    "y = np.array([5, 20, 14, 32, 22, 38])\n",
    "\n",
    "result, b0, b1 = gradient_descent(gradient_vector = gradient_vector, obs_x = x, obs_y = y,\n",
    "\tstarting_point=[2,1])\n",
    "print(\"The result is\", result[0], \"and \", result[1])\n",
    "\n",
    "\n",
    "\n"
   ]
  },
  {
   "cell_type": "code",
   "execution_count": null,
   "metadata": {},
   "outputs": [],
   "source": [
    "\n",
    "def animation_func(i):\n",
    "  print(\"i is \", i)\n",
    "  ax1.scatter(x, y, c =\"blue\")\n",
    "  ax1.plot(x, b0[i] + b1[i]*x, '--k')\n",
    "  i +=1\n",
    "  \n",
    "# Initialize the figure\n",
    "fig = plt.figure()\n",
    "ax1 = fig.add_subplot(1,1,1)\n",
    "fig.patch.set_facecolor('white')\n",
    "\n",
    "\n",
    "ani = animation.FuncAnimation(fig, animation_func,frames = 5, interval = 50)"
   ]
  },
  {
   "cell_type": "code",
   "execution_count": null,
   "metadata": {},
   "outputs": [],
   "source": [
    "%matplotlib ipympl\n",
    "\n",
    "M=np.array([[0,0,100,100,100,100,100,100,300,300,300,300,300,300,500,500,500,500,500,500,1000,1000,1000,1000] for i in range(0,20)]) \n",
    "\n",
    "def update(i):\n",
    "    M[7,i] = 1000\n",
    "    M[19-i,10] = 500\n",
    "    matrice.set_array(M)\n",
    "\n",
    "fig, ax = plt.subplots()\n",
    "matrice = ax.matshow(M)\n",
    "plt.colorbar(matrice)\n",
    "\n",
    "ani = animation.FuncAnimation(fig, update, frames=19, interval=500)\n",
    "plt.show()"
   ]
  },
  {
   "cell_type": "code",
   "execution_count": null,
   "metadata": {},
   "outputs": [],
   "source": [
    "!pip install matplotlib"
   ]
  }
 ],
 "metadata": {
  "kernelspec": {
   "display_name": "Python 3.7.3 ('base')",
   "language": "python",
   "name": "python3"
  },
  "language_info": {
   "codemirror_mode": {
    "name": "ipython",
    "version": 3
   },
   "file_extension": ".py",
   "mimetype": "text/x-python",
   "name": "python",
   "nbconvert_exporter": "python",
   "pygments_lexer": "ipython3",
   "version": "3.7.3"
  },
  "orig_nbformat": 4,
  "vscode": {
   "interpreter": {
    "hash": "cd78fef2128015050713e82ca51c6520b11aee7c9ee8df750520bbbc7384cbaa"
   }
  }
 },
 "nbformat": 4,
 "nbformat_minor": 2
}
