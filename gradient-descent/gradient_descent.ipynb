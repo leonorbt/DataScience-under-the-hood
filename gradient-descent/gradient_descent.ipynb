{
 "cells": [
  {
   "cell_type": "markdown",
   "metadata": {},
   "source": [
    "# Goal\n",
    "Apply gradient descent to minimize the error of a liner regression"
   ]
  },
  {
   "cell_type": "code",
   "execution_count": 64,
   "metadata": {},
   "outputs": [],
   "source": [
    "import numpy as np"
   ]
  },
  {
   "cell_type": "markdown",
   "metadata": {},
   "source": [
    "### Functions"
   ]
  },
  {
   "cell_type": "code",
   "execution_count": 65,
   "metadata": {},
   "outputs": [],
   "source": [
    "# this function iterates over the elements and returns\n",
    "# true if all of them are below the tolerance threshold\n",
    "def below_tolerance(movement, tolerance):\n",
    "\tfor i in movement:\n",
    "\t\tif i < 0:\n",
    "\t\t\ti = -i\n",
    "\t\tif i > tolerance:\n",
    "\t\t\treturn False\n",
    "\treturn True"
   ]
  },
  {
   "cell_type": "code",
   "execution_count": 66,
   "metadata": {},
   "outputs": [],
   "source": [
    "# SSR\n",
    "#this is the derivative of the cost function, returns the gradient vector\n",
    "# b0 = derivative in order to the intercept\n",
    "# b1 = derivative in order to the first parameter\n",
    "def\tgradient_vector(x, y, start):\n",
    "\tderiv = start[0] + start[1] * x - y\n",
    "\tb0 = 2 * deriv.sum()\n",
    "\tb1 = 2 * (deriv * x).sum()\n",
    "\treturn b0, b1"
   ]
  },
  {
   "cell_type": "code",
   "execution_count": 67,
   "metadata": {},
   "outputs": [],
   "source": [
    "# MSE\n",
    "#this is the derivative of the cost function, returns the gradient vector\n",
    "# b0 = derivative in order to the intercept\n",
    "# b1 = derivative in order to the first parameter\n",
    "def\tgradient_vector(x, y, start):\n",
    "\tderiv = start[0] + start[1] * x - y\n",
    "\tb0 = 2 * deriv.mean()\n",
    "\tb1 = 2 * (deriv * x).mean()\n",
    "\treturn b0, b1"
   ]
  },
  {
   "cell_type": "code",
   "execution_count": 68,
   "metadata": {},
   "outputs": [],
   "source": [
    "# this function returns the parameters b0 and b1 that create the linear regression\n",
    "# closer to obs_x and obs_y\n",
    "# the starting point is an initial selection for the parameters that is updated\n",
    "# until the improvement is marginal (below tolerance) or the model has been run \n",
    "# enough times\n",
    "def gradient_descent(gradient_vector, obs_x, obs_y, starting_point,\n",
    "\t\tlearning_rate=0.0005, max_iter=100, tolerance=0.001):\n",
    "\tposition = starting_point\n",
    "\tif max_iter < 1:\n",
    "\t\traise ValueError(\"The number of iterations should be greater than 0\")\n",
    "\tif tolerance < 0:\n",
    "\t\traise ValueError(\"The tolerance can't be negative\")\n",
    "\tif learning_rate <= 0:\n",
    "\t\traise ValueError(\"The learning rate has to be greater than 0, otherwise you ain't learning\")\n",
    "\ti = 0\n",
    "\twhile i < max_iter:\n",
    "\t\tmovement = learning_rate * np.array(gradient_vector(obs_x, obs_y, position))\n",
    "\t\tif below_tolerance(movement, tolerance):\n",
    "\t\t\tbreak\n",
    "\t\tposition -= movement\n",
    "\treturn position"
   ]
  },
  {
   "cell_type": "markdown",
   "metadata": {},
   "source": [
    "The elements must be an np.array because listA + listB will concatenate, while arrayA+arrayB will return an array of the sum of each element (must be the same size)"
   ]
  },
  {
   "cell_type": "markdown",
   "metadata": {},
   "source": [
    "- Add function to plot the linear regression"
   ]
  },
  {
   "cell_type": "code",
   "execution_count": 69,
   "metadata": {},
   "outputs": [
    {
     "data": {
      "text/plain": [
       "array([1.99430207, 0.63213599])"
      ]
     },
     "execution_count": 69,
     "metadata": {},
     "output_type": "execute_result"
    }
   ],
   "source": [
    "x = np.array([5, 15, 25, 35, 45, 55])\n",
    "y = np.array([5, 20, 14, 32, 22, 38])\n",
    "\n",
    "gradient_descent(gradient_vector = gradient_vector, obs_x = x, obs_y = y,\n",
    "\tstarting_point=[2,1])"
   ]
  },
  {
   "cell_type": "code",
   "execution_count": null,
   "metadata": {},
   "outputs": [],
   "source": []
  }
 ],
 "metadata": {
  "kernelspec": {
   "display_name": "Python 3.7.3 ('base')",
   "language": "python",
   "name": "python3"
  },
  "language_info": {
   "codemirror_mode": {
    "name": "ipython",
    "version": 3
   },
   "file_extension": ".py",
   "mimetype": "text/x-python",
   "name": "python",
   "nbconvert_exporter": "python",
   "pygments_lexer": "ipython3",
   "version": "3.7.3"
  },
  "orig_nbformat": 4,
  "vscode": {
   "interpreter": {
    "hash": "cd78fef2128015050713e82ca51c6520b11aee7c9ee8df750520bbbc7384cbaa"
   }
  }
 },
 "nbformat": 4,
 "nbformat_minor": 2
}
