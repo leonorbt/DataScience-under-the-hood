{
 "cells": [
  {
   "cell_type": "markdown",
   "metadata": {},
   "source": [
    "## Imports"
   ]
  },
  {
   "cell_type": "code",
   "execution_count": null,
   "metadata": {},
   "outputs": [],
   "source": [
    "import pandas as pd\n",
    "import numpy as np"
   ]
  },
  {
   "cell_type": "code",
   "execution_count": null,
   "metadata": {},
   "outputs": [],
   "source": [
    "def below_tolerance(movement, tolerance):\n",
    "\tfor i in movement:\n",
    "\t\tif i < 0:\n",
    "\t\t\ti = -i\n",
    "\t\tif i > tolerance:\n",
    "\t\t\treturn False\n",
    "\treturn True"
   ]
  },
  {
   "cell_type": "code",
   "execution_count": null,
   "metadata": {},
   "outputs": [],
   "source": [
    "#this function takes a linear regression (a) and gives the first order derivative in a\n",
    "#position\n",
    "def first_derivative(linear_regression, position):\n",
    "\t"
   ]
  },
  {
   "cell_type": "code",
   "execution_count": null,
   "metadata": {},
   "outputs": [],
   "source": [
    "\n",
    "def gradient_descent(cost_function, starting_point,\n",
    "\t\tlearning_rate=0.05, max_iter=500, tolerance=0.01):\n",
    "\tposition = starting_point\n",
    "\tif max_iter < 1:\n",
    "\t\traise ValueError(\"The number of iterations should be greater than 0\")\n",
    "\tif tolerance < 0:\n",
    "\t\traise ValueError(\"The tolerance can't be negative\")\n",
    "\tif learning_rate <= 0:\n",
    "\t\traise ValueError(\"The learning rate has to be greater than 0, otherwise you ain't learning\")\n",
    "\ti = 0\n",
    "\twhile i < max_iter:\n",
    "\t\tgradient = first_derivative(cost_function, position)\n",
    "\t\tmovement = learning_rate * gradient\n",
    "\t\tif below_tolerance(movement, tolerance):\n",
    "\t\t\tbreak\n",
    "\t\tposition -= movement\n",
    "\treturn position"
   ]
  },
  {
   "cell_type": "code",
   "execution_count": null,
   "metadata": {},
   "outputs": [],
   "source": [
    "gradient_descent"
   ]
  }
 ],
 "metadata": {
  "kernelspec": {
   "display_name": "Python 3.7.3 ('base')",
   "language": "python",
   "name": "python3"
  },
  "language_info": {
   "codemirror_mode": {
    "name": "ipython",
    "version": 3
   },
   "file_extension": ".py",
   "mimetype": "text/x-python",
   "name": "python",
   "nbconvert_exporter": "python",
   "pygments_lexer": "ipython3",
   "version": "3.7.3"
  },
  "orig_nbformat": 4,
  "vscode": {
   "interpreter": {
    "hash": "cd78fef2128015050713e82ca51c6520b11aee7c9ee8df750520bbbc7384cbaa"
   }
  }
 },
 "nbformat": 4,
 "nbformat_minor": 2
}
